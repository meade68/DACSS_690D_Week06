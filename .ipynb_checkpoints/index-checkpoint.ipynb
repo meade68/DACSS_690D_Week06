{
 "cells": [
  {
   "cell_type": "markdown",
   "id": "f8746832",
   "metadata": {
    "id": "f8746832"
   },
   "source": [
    "<center><img src=\"https://github.com/DACSS-Spatial/data_forSpatial/raw/main/logo.png\" width=\"700\"></center>\n",
    "\n",
    "<a target=\"_blank\" href=\"https://colab.research.google.com/github/DACSS-Spatial/unaryOPS/blob/main/index.ipynb\">\n",
    "  <img src=\"https://colab.research.google.com/assets/colab-badge.svg\" alt=\"Open In Colab\"/>\n",
    "</a>\n"
   ]
  },
  {
   "cell_type": "markdown",
   "id": "af76d2a2",
   "metadata": {
    "id": "af76d2a2"
   },
   "source": [
    "# Unary Operations on  Geo Dataframes\n",
    "\n",
    "We will review some important unary operations for GeoDataframes (GDF). This is a basic set of tools for a social scientist, but which depends a lot on the quality of the maps you have.\n",
    "\n",
    "Keep in mind that this basic unary operations will be used later for practical applications in the coming weeks. "
   ]
  },
  {
   "cell_type": "markdown",
   "id": "2677ec11-108e-441c-8231-c994d5dcf6a4",
   "metadata": {},
   "source": [
    "## Getting ready"
   ]
  },
  {
   "cell_type": "markdown",
   "id": "244a5266",
   "metadata": {
    "id": "244a5266"
   },
   "source": [
    "The links to the our maps on GitHub are here:"
   ]
  },
  {
   "cell_type": "code",
   "execution_count": null,
   "id": "f5bcb405-dfc6-4b14-8499-d9e42805336d",
   "metadata": {
    "colab": {
     "base_uri": "https://localhost:8080/",
     "height": 143
    },
    "id": "f5bcb405-dfc6-4b14-8499-d9e42805336d",
    "outputId": "5a969405-6147-4637-e40f-519a2e199062"
   },
   "outputs": [],
   "source": [
    "gitMain=\"https://github.com/DACSS-Spatial/data_forSpatial/raw/refs/heads/main/\"\n",
    "linkWorldMap=gitMain+\"WORLD/worldMaps.gpkg\"\n",
    "linkBrazil=gitMain+\"BRAZIL/brazil_5880.gpkg\"\n",
    "linkIndicators=gitMain+\"WORLD/worldindicators.json\""
   ]
  },
  {
   "cell_type": "markdown",
   "id": "e8fb7cf4-1379-49f0-916d-0b3bf5be0c39",
   "metadata": {},
   "source": [
    "Let's get some maps:"
   ]
  },
  {
   "cell_type": "code",
   "execution_count": null,
   "id": "650f1ceb-2e67-487b-92ae-0735c12e9b4c",
   "metadata": {},
   "outputs": [],
   "source": [
    "import geopandas as gpd\n",
    "\n",
    "# #world \n",
    "world_rivers=gpd.read_file(linkWorldMap,layer='rivers')\n",
    "# #brazil \n",
    "brazil5880=gpd.read_file(linkBrazil,layer='country')\n",
    "airports_brazil5880=gpd.read_file(linkBrazil,layer='airports')\n",
    "states_brazil5880=gpd.read_file(linkBrazil,layer='states')\n",
    "municipalities_brazil5880=gpd.read_file(linkBrazil,layer='municipalities')\n",
    "# #some indicators\n",
    "indicators=gpd.read_file(linkIndicators)\n"
   ]
  },
  {
   "cell_type": "markdown",
   "id": "c2fc940f",
   "metadata": {
    "id": "c2fc940f"
   },
   "source": [
    "\n",
    "\n",
    "Now, let's see some important spatial operations!\n"
   ]
  },
  {
   "cell_type": "markdown",
   "id": "71837f62-fcce-45b2-9d9a-8c58e71d6716",
   "metadata": {},
   "source": [
    "## I. Filtering using Pandas inheritance"
   ]
  },
  {
   "cell_type": "markdown",
   "id": "0e164d8e-b172-4cb9-9a86-98a3d6a8061d",
   "metadata": {},
   "source": [
    "### I.1 Using **iloc** and **loc**\n",
    "\n",
    "The condition here depends on knowing index/column positions, or index/column names."
   ]
  },
  {
   "cell_type": "code",
   "execution_count": null,
   "id": "4ed1361d-8624-41eb-868c-0010ed9c9475",
   "metadata": {
    "colab": {
     "base_uri": "https://localhost:8080/",
     "height": 206
    },
    "id": "4ed1361d-8624-41eb-868c-0010ed9c9475",
    "outputId": "ba7ec566-90b2-496b-95a0-184e291f1c5f"
   },
   "outputs": [],
   "source": [
    "#if we have\n",
    "states_brazil5880.head()"
   ]
  },
  {
   "cell_type": "code",
   "execution_count": null,
   "id": "a41ade83-f334-4d7a-ae1d-61b66e6b5b92",
   "metadata": {
    "colab": {
     "base_uri": "https://localhost:8080/",
     "height": 424
    },
    "id": "a41ade83-f334-4d7a-ae1d-61b66e6b5b92",
    "outputId": "0eb1d914-233c-4493-99ef-fd20922c7868"
   },
   "outputs": [],
   "source": [
    "# iloc for positions\n",
    "\n",
    "states_brazil5880.iloc[:5,1:] # upto fifth row"
   ]
  },
  {
   "cell_type": "code",
   "execution_count": null,
   "id": "17e5a1bf-ee01-41b0-81f4-bfbc4657857c",
   "metadata": {
    "colab": {
     "base_uri": "https://localhost:8080/",
     "height": 458
    },
    "id": "17e5a1bf-ee01-41b0-81f4-bfbc4657857c",
    "outputId": "3bde2eef-f346-474c-f5b6-887deddefa22"
   },
   "outputs": [],
   "source": [
    "# loc for labels\n",
    "\n",
    "states_brazil5880.loc[:5,'state_code':] # upto row with label '5'"
   ]
  },
  {
   "cell_type": "markdown",
   "id": "48866962-4282-4892-ab9c-7b19163fcdb1",
   "metadata": {},
   "source": [
    "Keep in mind that if you do not include the geometry column, you will get a DataFrame (DF) back, **not** a GDF."
   ]
  },
  {
   "cell_type": "code",
   "execution_count": null,
   "id": "e9f5c3ee-b4e5-46fc-991b-110851e8f405",
   "metadata": {},
   "outputs": [],
   "source": [
    "# GDF\n",
    "type(states_brazil5880.loc[:8,'state_code':])"
   ]
  },
  {
   "cell_type": "code",
   "execution_count": null,
   "id": "dc32f8d4-32d5-4488-a10b-5f2d0a6053ee",
   "metadata": {},
   "outputs": [],
   "source": [
    "# DF\n",
    "type(states_brazil5880.loc[:8,:'state_code'])"
   ]
  },
  {
   "cell_type": "markdown",
   "id": "18068e53-6f3d-4330-97e9-104c84a0c726",
   "metadata": {},
   "source": [
    "Also remember this detail:"
   ]
  },
  {
   "cell_type": "code",
   "execution_count": null,
   "id": "59496dbb-e976-4945-a4dc-6f2e022e4b27",
   "metadata": {},
   "outputs": [],
   "source": [
    "# you lose the spatial structure when keeping ONE row!\n",
    "type(states_brazil5880.loc[8,:])"
   ]
  },
  {
   "cell_type": "code",
   "execution_count": null,
   "id": "d8794fb9-1ccc-46ca-8db2-e54817b880d9",
   "metadata": {},
   "outputs": [],
   "source": [
    "# you keep the spatial structure if the row index is a list\n",
    "type(states_brazil5880.loc[[8],:])"
   ]
  },
  {
   "cell_type": "markdown",
   "id": "d52fc8e4-0bf5-4602-99b5-023ec6dc0ab0",
   "metadata": {},
   "source": [
    "### I.2 Query"
   ]
  },
  {
   "cell_type": "code",
   "execution_count": null,
   "id": "9d52d24f-3ab2-455a-8556-6bd9c89a3508",
   "metadata": {},
   "outputs": [],
   "source": [
    "# complex conditions with query\n",
    "condition='elevation_ft > 5000 and airport_type==\"small_airport\"'\n",
    "airports_brazil5880.query(condition)"
   ]
  },
  {
   "cell_type": "markdown",
   "id": "e8930d32-1532-48ff-baa4-2c3430dcbce7",
   "metadata": {},
   "source": [
    "### I.3 Subset with \"isin()\""
   ]
  },
  {
   "cell_type": "code",
   "execution_count": null,
   "id": "ad094287-1307-4cb9-afa2-6afcd579133c",
   "metadata": {},
   "outputs": [],
   "source": [
    "choices=['large_airport','seaplane_base']\n",
    "airports_brazil5880[airports_brazil5880.airport_type.isin(choices)]"
   ]
  },
  {
   "cell_type": "markdown",
   "id": "29c67db6-5094-48f4-8f14-fabed6f75399",
   "metadata": {},
   "source": [
    "### I.4 Filtering with strings"
   ]
  },
  {
   "cell_type": "code",
   "execution_count": null,
   "id": "e6ca4a10-d76a-4348-af37-8eb69ae1f285",
   "metadata": {},
   "outputs": [],
   "source": [
    "# filter with text - startswith / endswith\n",
    "\n",
    "textCondition1=('Presi','Depu')\n",
    "airports_brazil5880[airports_brazil5880.airport_name.str.startswith(textCondition1)]"
   ]
  },
  {
   "cell_type": "code",
   "execution_count": null,
   "id": "bbf0d39a-e75c-404a-8596-4b788bf215be",
   "metadata": {},
   "outputs": [],
   "source": [
    "# filter with text - contains (more flexible)\n",
    "\n",
    "textCondition2='Presidente|Deputado'\n",
    "airports_brazil5880[airports_brazil5880.airport_name.str.contains(textCondition2)]\n",
    "\n",
    "# notice 'Refinaria Presidente Bernardes Heliport'"
   ]
  },
  {
   "cell_type": "markdown",
   "id": "9552e1f8-7edf-4c85-b0dc-0d28d41e4e9b",
   "metadata": {},
   "source": [
    "### I.5 Using missing values"
   ]
  },
  {
   "cell_type": "code",
   "execution_count": null,
   "id": "129e44ea-fad1-4e92-b32b-de64cc3bbfe6",
   "metadata": {},
   "outputs": [],
   "source": [
    "# Filter rows where specific column has no missing values\n",
    "\n",
    "airports_brazil5880[airports_brazil5880.elevation_ft.notna()]"
   ]
  },
  {
   "cell_type": "code",
   "execution_count": null,
   "id": "b7858b66-5cd4-42cb-930f-81c9c09c6f9c",
   "metadata": {},
   "outputs": [],
   "source": [
    "# Filter rows where specific column has missing values\n",
    "\n",
    "airports_brazil5880[airports_brazil5880.elevation_ft.isna()]\n"
   ]
  },
  {
   "cell_type": "markdown",
   "id": "8381e811-2fd7-4e4d-a091-99788e8037dd",
   "metadata": {},
   "source": [
    "## II. Filtering with geometry"
   ]
  },
  {
   "cell_type": "markdown",
   "id": "5c6f831c-5b8f-44e8-8a99-a3acfc2f2de0",
   "metadata": {},
   "source": [
    "### II.2 Filtering by geometry attribute\n",
    "\n",
    "The GDF 'states_brazil5880' has only these columns:"
   ]
  },
  {
   "cell_type": "code",
   "execution_count": null,
   "id": "678cfef5-d8b6-4d3a-b7ac-a6fa266cc4ef",
   "metadata": {},
   "outputs": [],
   "source": [
    "states_brazil5880.columns"
   ]
  },
  {
   "cell_type": "markdown",
   "id": "982d8a39-78a7-4251-bf6c-051ebd42b5ec",
   "metadata": {},
   "source": [
    "But, since it is projected, you can get the area of the polygon:"
   ]
  },
  {
   "cell_type": "code",
   "execution_count": null,
   "id": "d992e186-f7b3-4822-aaef-aaca92eb8001",
   "metadata": {},
   "outputs": [],
   "source": [
    "# This filter finds states whose area is larger than 1,000,000 km²\n",
    "states_brazil5880[states_brazil5880.area > 1000000000000]"
   ]
  },
  {
   "cell_type": "markdown",
   "id": "20f37cb2-8514-4854-8cb7-718d147a7ee4",
   "metadata": {},
   "source": [
    "Other attributes are at your service:"
   ]
  },
  {
   "cell_type": "markdown",
   "id": "137596ee-113d-4e94-baab-7328d24e604f",
   "metadata": {},
   "source": [
    "| Attribute | Description | Output Type |\n",
    "| :--- | :--- | :--- |\n",
    "| `.geometry.length` | Calculates the length of the boundary of each feature (perimeter for polygons, total length for lines). | pandas.Series (float) |\n",
    "| `.geometry.centroid` | Returns the geometric center (centroid) of each geometry. | pandas.Series (Point) |\n",
    "| `.geometry.bounds` | Returns the bounding box (minimum and maximum coordinates) of each geometry. | GeoDataFrame (4 columns: minx, miny, maxx, maxy) |\n",
    "| `.geometry.geom_type` | Returns the type of geometry (e.g., 'Point', 'LineString', 'Polygon', 'MultiPolygon'). | pandas.Series (string) |\n",
    "| `.geometry.is_empty` | Returns True if a geometry has no points (e.g., an empty geometry). | pandas.Series (boolean) |\n",
    "| `.geometry.is_valid` | Returns True if a geometry is geometrically valid (no self-intersections, etc.). | pandas.Series (boolean) |\n",
    "| `.geometry.exterior` | For polygons, returns the exterior ring (boundary). | pandas.Series (LinearRings) |\n",
    "| `.geometry.x` | For Point geometries only, returns the X-coordinate. | pandas.Series (float) |\n",
    "| `.geometry.y` | For Point geometries only, returns the Y-coordinate. | pandas.Series (float) |"
   ]
  },
  {
   "cell_type": "markdown",
   "id": "54e8c003-1949-43c1-ba24-cd0dffd115b5",
   "metadata": {},
   "source": [
    "We will be using these several times later."
   ]
  },
  {
   "cell_type": "markdown",
   "id": "a20c0c9b-9598-4f47-818a-d55449dca5cf",
   "metadata": {},
   "source": [
    "### II.2 Slicing with **cx**"
   ]
  },
  {
   "cell_type": "markdown",
   "id": "6a3dfc54-46a0-4531-998c-3f11c9735fec",
   "metadata": {
    "id": "6a3dfc54-46a0-4531-998c-3f11c9735fec"
   },
   "source": [
    "As a GDF, you can also filter using coordinates via __cx__. "
   ]
  },
  {
   "cell_type": "markdown",
   "id": "f08579d5-5736-4122-9b69-22d8b98e8f8e",
   "metadata": {},
   "source": [
    "Let me get Brazil's centroid to show you how this works:"
   ]
  },
  {
   "cell_type": "code",
   "execution_count": null,
   "id": "a6a221f3-51db-4264-83e3-da0fa8eacc0a",
   "metadata": {},
   "outputs": [],
   "source": [
    "brazil5880_cen=brazil5880.centroid\n",
    "brazil5880_cen"
   ]
  },
  {
   "cell_type": "markdown",
   "id": "e60f2723-4093-4753-bdd8-33e754378325",
   "metadata": {},
   "source": [
    "Here, I recover each coordinate values:"
   ]
  },
  {
   "cell_type": "code",
   "execution_count": null,
   "id": "7c47096a-3cbf-451e-9811-b325bca2304b",
   "metadata": {},
   "outputs": [],
   "source": [
    "# above I mentioned you got series, then:\n",
    "mid_x,mid_y=brazil5880_cen.x[0],brazil5880_cen.y[0]\n",
    "mid_x,mid_y"
   ]
  },
  {
   "cell_type": "markdown",
   "id": "66a83e6d-4073-44fc-8e07-b1ddabc5582a",
   "metadata": {
    "id": "66a83e6d-4073-44fc-8e07-b1ddabc5582a"
   },
   "source": [
    "Let me select airports north of the centroid:"
   ]
  },
  {
   "cell_type": "code",
   "execution_count": null,
   "id": "50632acb-1595-4207-927c-ee9b4d030b83",
   "metadata": {
    "colab": {
     "base_uri": "https://localhost:8080/",
     "height": 833
    },
    "id": "50632acb-1595-4207-927c-ee9b4d030b83",
    "outputId": "19568afa-f936-4fee-ee5c-4abb1d08b942"
   },
   "outputs": [],
   "source": [
    "airports_brazil5880.cx[:,mid_y:]"
   ]
  },
  {
   "cell_type": "markdown",
   "id": "785bcf83-30fa-488a-95c5-b394d70a4b91",
   "metadata": {},
   "source": [
    "Confirming we got it right:"
   ]
  },
  {
   "cell_type": "code",
   "execution_count": null,
   "id": "6439a16a-862a-44df-95d3-35c2c719c11e",
   "metadata": {},
   "outputs": [],
   "source": [
    "# the viz\n",
    "base=brazil5880.plot(color='yellow') \n",
    "airports_brazil5880.cx[:,mid_y:].plot(ax=base,markersize=1) \n",
    "brazil5880.centroid.plot(color='red',ax=base) "
   ]
  },
  {
   "cell_type": "markdown",
   "id": "1c44c596-e798-44d7-ba22-e24c00ae5044",
   "metadata": {
    "id": "1c44c596-e798-44d7-ba22-e24c00ae5044"
   },
   "source": [
    "When the GDF is made of points, the __cx__ would give clean results. Do **not** expect that when GDF is made of polygons.\n",
    "\n",
    "Let me use it to split the states:"
   ]
  },
  {
   "cell_type": "code",
   "execution_count": null,
   "id": "21e77302-50cd-4b69-b4ce-8ef62ca7e9e4",
   "metadata": {},
   "outputs": [],
   "source": [
    "# the north\n",
    "N_brazil=states_brazil5880.cx[:,mid_y:]\n",
    "# the south\n",
    "S_brazil=states_brazil5880.cx[:,:mid_y]\n",
    "# the west\n",
    "W_brazil=states_brazil5880.cx[:mid_x,:]\n",
    "# the east\n",
    "E_brazil=states_brazil5880.cx[mid_x:,:]"
   ]
  },
  {
   "cell_type": "markdown",
   "id": "0e66a887-aa31-4ea9-b9ce-03367286ed74",
   "metadata": {},
   "source": [
    "Notice the centroid does not cut polygons:"
   ]
  },
  {
   "cell_type": "code",
   "execution_count": null,
   "id": "fa2468c1-8531-4e2e-ae86-be1d6ac30d00",
   "metadata": {
    "scrolled": true
   },
   "outputs": [],
   "source": [
    "base=N_brazil.plot()\n",
    "brazil5880.centroid.plot(color='red',ax=base)"
   ]
  },
  {
   "cell_type": "code",
   "execution_count": null,
   "id": "393c5094-0496-4615-9254-8f9491cc9edc",
   "metadata": {},
   "outputs": [],
   "source": [
    "base=W_brazil.plot()\n",
    "brazil5880.centroid.plot(color='red',ax=base)"
   ]
  },
  {
   "cell_type": "markdown",
   "id": "4b872821-e6d6-42ff-89dc-2c1b5b2efd80",
   "metadata": {},
   "source": [
    "## II. Combining geometries\n",
    "\n",
    "Let's remember these contents:"
   ]
  },
  {
   "cell_type": "code",
   "execution_count": null,
   "id": "a732d195-b51f-4bf7-8b9c-daaf8a49c0a3",
   "metadata": {
    "colab": {
     "base_uri": "https://localhost:8080/",
     "height": 206
    },
    "id": "a732d195-b51f-4bf7-8b9c-daaf8a49c0a3",
    "outputId": "d19e9d6b-8d87-45e6-b693-9cc997209290"
   },
   "outputs": [],
   "source": [
    "#see\n",
    "municipalities_brazil5880.head(10)"
   ]
  },
  {
   "cell_type": "markdown",
   "id": "1d0ca18b-4d56-4a5f-9575-755e278582c2",
   "metadata": {
    "id": "1d0ca18b-4d56-4a5f-9575-755e278582c2"
   },
   "source": [
    "Then, this is Rondônia:"
   ]
  },
  {
   "cell_type": "code",
   "execution_count": null,
   "id": "9206f541-2616-428b-af59-77b1b3f3965d",
   "metadata": {},
   "outputs": [],
   "source": [
    "muniRondonia=municipalities_brazil5880[municipalities_brazil5880.state_name.isin(['Rondônia'])]"
   ]
  },
  {
   "cell_type": "markdown",
   "id": "8402eac8-6ffb-4244-9ae0-3b3d2744f4c7",
   "metadata": {},
   "source": [
    "I have just subset all the municipalities, then I have several polygons:"
   ]
  },
  {
   "cell_type": "code",
   "execution_count": null,
   "id": "e2954e50-2d6f-4583-a2c0-3e5aaeb20b44",
   "metadata": {
    "colab": {
     "base_uri": "https://localhost:8080/",
     "height": 481
    },
    "id": "e2954e50-2d6f-4583-a2c0-3e5aaeb20b44",
    "outputId": "1c2b676d-f43b-4cfd-aa3a-01c8684ae6e7"
   },
   "outputs": [],
   "source": [
    "muniRondonia.plot(edgecolor='yellow')"
   ]
  },
  {
   "cell_type": "markdown",
   "id": "e0ec0e20-de35-444b-9b20-daff26825402",
   "metadata": {
    "id": "e0ec0e20-de35-444b-9b20-daff26825402"
   },
   "source": [
    "\n",
    "\n",
    "Combining the polygons means they will become ONE. We have more than one way to achieve that."
   ]
  },
  {
   "cell_type": "markdown",
   "id": "97eadc14-d617-4345-ad89-1eb2b786d31f",
   "metadata": {
    "id": "97eadc14-d617-4345-ad89-1eb2b786d31f"
   },
   "source": [
    "### II.1 Unary UNION\n",
    "\n",
    "We can combine all these polygons into one:"
   ]
  },
  {
   "cell_type": "code",
   "execution_count": null,
   "id": "c00c048b-6faa-4ad6-8cf7-0f98769e17f2",
   "metadata": {
    "colab": {
     "base_uri": "https://localhost:8080/",
     "height": 321
    },
    "id": "c00c048b-6faa-4ad6-8cf7-0f98769e17f2",
    "outputId": "d6518f2b-be89-4366-ca31-a49bb275f203"
   },
   "outputs": [],
   "source": [
    "muniRondonia.union_all()"
   ]
  },
  {
   "cell_type": "markdown",
   "id": "9d3fcffd-e552-4bea-9da3-b39745de4c36",
   "metadata": {
    "id": "9d3fcffd-e552-4bea-9da3-b39745de4c36"
   },
   "source": [
    "Let's save that result:"
   ]
  },
  {
   "cell_type": "code",
   "execution_count": null,
   "id": "dd515b42-60bc-42d2-9c46-f818c17750bc",
   "metadata": {
    "id": "ce5d4b07-7f14-4dc7-8031-5c12ee2c8a92"
   },
   "outputs": [],
   "source": [
    "Rondonia_union=muniRondonia.union_all()"
   ]
  },
  {
   "cell_type": "markdown",
   "id": "8b48c58a-6148-4bff-9ff8-44ca96e54151",
   "metadata": {},
   "source": [
    "It is important to know what structure we got after any operation:\n",
    "\n",
    "- GDF?\n",
    "- GeoSeries?\n",
    "- Just the Geometry?"
   ]
  },
  {
   "cell_type": "code",
   "execution_count": null,
   "id": "d71ea52f-6738-4d8b-93fb-6e6bfdd7ed21",
   "metadata": {
    "colab": {
     "base_uri": "https://localhost:8080/"
    },
    "id": "d71ea52f-6738-4d8b-93fb-6e6bfdd7ed21",
    "outputId": "e2976b5a-efa1-492e-e3bc-81842fa7fdd8"
   },
   "outputs": [],
   "source": [
    "type(Rondonia_union)"
   ]
  },
  {
   "cell_type": "markdown",
   "id": "97f5eeba-ee4f-4a46-b8ac-9645f7e59766",
   "metadata": {
    "id": "97f5eeba-ee4f-4a46-b8ac-9645f7e59766"
   },
   "source": [
    "For GeoPandas, I recommend to turn into a GeoDataFrame these outputs. We can turn that  _shapely_ geometry into a GeoDF like this:"
   ]
  },
  {
   "cell_type": "code",
   "execution_count": null,
   "id": "52d84f0d-bd43-4008-b3ac-c807e7dbafc5",
   "metadata": {
    "colab": {
     "base_uri": "https://localhost:8080/",
     "height": 81
    },
    "id": "52d84f0d-bd43-4008-b3ac-c807e7dbafc5",
    "outputId": "add29621-ed75-4274-a651-e092ea7e3185"
   },
   "outputs": [],
   "source": [
    "gpd.GeoDataFrame(geometry=[Rondonia_union]) # the recent union"
   ]
  },
  {
   "cell_type": "markdown",
   "id": "9f088b27-8921-454e-8aeb-43e33aae6a69",
   "metadata": {},
   "source": [
    "Even better, you can format the result with more information:"
   ]
  },
  {
   "cell_type": "code",
   "execution_count": null,
   "id": "c7f7bffc-13eb-43b6-ba49-a46bea47a865",
   "metadata": {},
   "outputs": [],
   "source": [
    "gpd.GeoDataFrame(index=[0], # one element\n",
    "                 data={'state':'Rondonia'}, # the column and the value\n",
    "                 crs=muniRondonia.crs, # important to avoid naive geometries\n",
    "                 geometry=[Rondonia_union]) # the recent union"
   ]
  },
  {
   "cell_type": "markdown",
   "id": "b1dee927-70dd-48e8-82b7-a04a2fa8fe3c",
   "metadata": {
    "id": "b1dee927-70dd-48e8-82b7-a04a2fa8fe3c"
   },
   "source": [
    "<a class=\"anchor\" id=\"21\"></a>\n",
    "\n",
    "### II.2 Dissolve\n",
    "\n",
    "#### a. Dissolve as Union\n",
    "Using  **dissolve** is an alternative to _UNION_:"
   ]
  },
  {
   "cell_type": "code",
   "execution_count": null,
   "id": "c5768952-7e24-43ad-901e-9a7fadc3fc2c",
   "metadata": {
    "colab": {
     "base_uri": "https://localhost:8080/",
     "height": 481
    },
    "id": "c5768952-7e24-43ad-901e-9a7fadc3fc2c",
    "outputId": "78bde6c3-e080-44ff-e393-19a812684b6e"
   },
   "outputs": [],
   "source": [
    "muniRondonia.dissolve()"
   ]
  },
  {
   "cell_type": "markdown",
   "id": "351fbf6a-7e61-467e-ab1c-15c7544a4632",
   "metadata": {
    "id": "351fbf6a-7e61-467e-ab1c-15c7544a4632"
   },
   "source": [
    "Let me save the result, and see the type :"
   ]
  },
  {
   "cell_type": "code",
   "execution_count": null,
   "id": "672d051e-772e-4310-86f6-8fcfca6ed287",
   "metadata": {
    "colab": {
     "base_uri": "https://localhost:8080/",
     "height": 187
    },
    "id": "672d051e-772e-4310-86f6-8fcfca6ed287",
    "outputId": "2ac9f749-2cc1-43f7-e90d-f6bfd565fa69"
   },
   "outputs": [],
   "source": [
    "Rondonia_dissolved=muniRondonia.dissolve()\n",
    "\n",
    "# we got?\n",
    "type(Rondonia_dissolved)"
   ]
  },
  {
   "cell_type": "markdown",
   "id": "2fc5778d-ef46-46dd-bd3e-eaba9f668e03",
   "metadata": {
    "id": "2fc5778d-ef46-46dd-bd3e-eaba9f668e03"
   },
   "source": [
    "You got a GDF this time:"
   ]
  },
  {
   "cell_type": "code",
   "execution_count": null,
   "id": "c3f3d552-060c-41f2-bbe5-debf1de6a496",
   "metadata": {
    "colab": {
     "base_uri": "https://localhost:8080/",
     "height": 89
    },
    "id": "c3f3d552-060c-41f2-bbe5-debf1de6a496",
    "outputId": "440196dd-dc8d-4143-f0dc-e443547f5785"
   },
   "outputs": [],
   "source": [
    "## see\n",
    "Rondonia_dissolved"
   ]
  },
  {
   "cell_type": "markdown",
   "id": "7a3953f5-d60c-44a9-bc5b-e658071ae998",
   "metadata": {},
   "source": [
    "Some minimal changes to *Rondonia_dissolved*:"
   ]
  },
  {
   "cell_type": "code",
   "execution_count": null,
   "id": "95b21cb3-db50-48f1-a354-ce2b23e9b247",
   "metadata": {
    "colab": {
     "base_uri": "https://localhost:8080/",
     "height": 89
    },
    "id": "95b21cb3-db50-48f1-a354-ce2b23e9b247",
    "outputId": "0c529369-6e65-4304-b641-788a744787ea"
   },
   "outputs": [],
   "source": [
    "# keeping what is relevant\n",
    "Rondonia_dissolved.drop(columns=['municipality_name','municipality_code'],inplace=True)\n",
    "\n",
    "# then\n",
    "Rondonia_dissolved"
   ]
  },
  {
   "cell_type": "markdown",
   "id": "96fe9bbb-bced-45c4-88e6-6f1772dd9691",
   "metadata": {},
   "source": [
    "Notice _dissolving_ returns a GDF, but also keeps the information of one the lower level units that were dissolved (municipality_name, municipality_code). _Union_all_ returned just the geometry."
   ]
  },
  {
   "cell_type": "markdown",
   "id": "9321a5df-3274-4696-9278-6141e3218930",
   "metadata": {
    "id": "9321a5df-3274-4696-9278-6141e3218930"
   },
   "source": [
    "#### b. Dissolve for groups\n",
    "\n",
    "Using _dissolve()_ with no arguments returns the union of the polygons as above, AND also you get a GDF.\n",
    "However, if you have a column that represents a grouping (as we do), you can dissolve by that column:"
   ]
  },
  {
   "cell_type": "code",
   "execution_count": null,
   "id": "8b02371a-f65e-46e5-b0d2-e88d21825cd2",
   "metadata": {
    "colab": {
     "base_uri": "https://localhost:8080/",
     "height": 481
    },
    "id": "8b02371a-f65e-46e5-b0d2-e88d21825cd2",
    "outputId": "506a772d-0f22-4f87-9cf8-72298537b8ad"
   },
   "outputs": [],
   "source": [
    "# dissolving municipalities again!- but by state\n",
    "municipalities_brazil5880.dissolve(by='state_name').plot(facecolor='lightgrey', edgecolor='black',linewidth=0.2)"
   ]
  },
  {
   "cell_type": "markdown",
   "id": "ade71f08-90cb-4a1c-977a-4f5ac846f2d9",
   "metadata": {
    "id": "ade71f08-90cb-4a1c-977a-4f5ac846f2d9"
   },
   "source": [
    "Again, let me save this result:"
   ]
  },
  {
   "cell_type": "code",
   "execution_count": null,
   "id": "1a36080b-9326-4584-9190-fa1718e03f0d",
   "metadata": {
    "id": "1a36080b-9326-4584-9190-fa1718e03f0d"
   },
   "outputs": [],
   "source": [
    "Brazil_munitoStates=municipalities_brazil5880.dissolve(by='state_name')"
   ]
  },
  {
   "cell_type": "markdown",
   "id": "4d1de91b-7ad7-44f5-a9cb-410dbf53656c",
   "metadata": {
    "id": "4d1de91b-7ad7-44f5-a9cb-410dbf53656c"
   },
   "source": [
    "We know we have a GDF; let's see contents:"
   ]
  },
  {
   "cell_type": "code",
   "execution_count": null,
   "id": "ef8b7fbb-7b5b-4624-ae40-e7aed7d4bdf6",
   "metadata": {
    "colab": {
     "base_uri": "https://localhost:8080/",
     "height": 927
    },
    "id": "ef8b7fbb-7b5b-4624-ae40-e7aed7d4bdf6",
    "outputId": "d5ec1d9d-642c-4b0d-b352-5d48203ef4c8"
   },
   "outputs": [],
   "source": [
    "Brazil_munitoStates.head()"
   ]
  },
  {
   "cell_type": "markdown",
   "id": "48b1ddda-4b45-489c-97b8-3260a2f75459",
   "metadata": {
    "id": "48b1ddda-4b45-489c-97b8-3260a2f75459"
   },
   "source": [
    "Again, we can drop columns that came from the lower level:"
   ]
  },
  {
   "cell_type": "code",
   "execution_count": null,
   "id": "bebf8290-4334-4b1f-8818-0f0db44799be",
   "metadata": {
    "colab": {
     "base_uri": "https://localhost:8080/"
    },
    "id": "bebf8290-4334-4b1f-8818-0f0db44799be",
    "outputId": "decce817-b7a3-444d-ead9-6602ea60cdad"
   },
   "outputs": [],
   "source": [
    "Brazil_munitoStates.drop(columns=['municipality_name',\t'municipality_code'],inplace=True)\n",
    "Brazil_munitoStates.reset_index(inplace=True)\n",
    "Brazil_munitoStates.info()"
   ]
  },
  {
   "cell_type": "markdown",
   "id": "8ce4da9c-0e99-4e00-aabb-5a291d7a935d",
   "metadata": {
    "id": "8ce4da9c-0e99-4e00-aabb-5a291d7a935d"
   },
   "source": [
    "#### c. Dissolve and aggregate\n",
    "\n",
    "In **pandas**, you can aggregate data using some statistics. Let's see the map with indicators we created in a previous session:"
   ]
  },
  {
   "cell_type": "code",
   "execution_count": null,
   "id": "f842ce68-8353-4af7-9ed9-5e1a8e856f39",
   "metadata": {
    "colab": {
     "base_uri": "https://localhost:8080/",
     "height": 206
    },
    "id": "f842ce68-8353-4af7-9ed9-5e1a8e856f39",
    "outputId": "907fbc15-5088-4658-e526-f6f828fea29a"
   },
   "outputs": [],
   "source": [
    "indicators.head()"
   ]
  },
  {
   "cell_type": "markdown",
   "id": "Rto2Jyoz3vcm",
   "metadata": {
    "id": "Rto2Jyoz3vcm"
   },
   "source": [
    "You can compute the mean of the countries by region, using a DF approach like this:"
   ]
  },
  {
   "cell_type": "code",
   "execution_count": null,
   "id": "O3VGN7S81s3B",
   "metadata": {
    "colab": {
     "base_uri": "https://localhost:8080/",
     "height": 394
    },
    "id": "O3VGN7S81s3B",
    "outputId": "d8d30f70-5d4d-4425-da7a-a08b05906e72"
   },
   "outputs": [],
   "source": [
    "indicators.groupby('region').agg({'fragility':'mean'}) "
   ]
  },
  {
   "cell_type": "markdown",
   "id": "Vk8B5uRC0mVX",
   "metadata": {
    "id": "Vk8B5uRC0mVX"
   },
   "source": [
    "You do not see a \"geometry\" column. It got lost when using **groupby().agg()**.\n",
    "\n",
    "The appropriate operation to conserve spatial information is also **dissolve**:"
   ]
  },
  {
   "cell_type": "code",
   "execution_count": null,
   "id": "794f3048-257d-4193-89d0-deda71523b9c",
   "metadata": {
    "colab": {
     "base_uri": "https://localhost:8080/",
     "height": 363
    },
    "id": "794f3048-257d-4193-89d0-deda71523b9c",
    "outputId": "80383224-82f9-4082-d7b0-dfb8ce032ab0"
   },
   "outputs": [],
   "source": [
    "indicatorsByRegion=indicators.dissolve(\n",
    "    by=\"region\", #groupby()\n",
    "    aggfunc={\"fragility\": \"mean\"}, #agg()\n",
    "    )\n",
    "\n",
    "## see the GeoDF\n",
    "indicatorsByRegion"
   ]
  },
  {
   "cell_type": "markdown",
   "id": "ce73aadb-aaad-458f-abf1-dc24be193949",
   "metadata": {
    "id": "ce73aadb-aaad-458f-abf1-dc24be193949"
   },
   "source": [
    "You can request a choropleth for _indicatorsByRegion_:"
   ]
  },
  {
   "cell_type": "code",
   "execution_count": null,
   "id": "-c3sNkIr4ehl",
   "metadata": {
    "id": "-c3sNkIr4ehl"
   },
   "outputs": [],
   "source": [
    "# You may need to install if using Colab\n",
    "# !pip install mapclassify"
   ]
  },
  {
   "cell_type": "code",
   "execution_count": null,
   "id": "509d432c-35bb-48c2-9365-02b6aa6227ee",
   "metadata": {
    "colab": {
     "base_uri": "https://localhost:8080/",
     "height": 540
    },
    "id": "509d432c-35bb-48c2-9365-02b6aa6227ee",
    "outputId": "6ee2ef0e-67b7-43c0-a111-1e9bc11a891e"
   },
   "outputs": [],
   "source": [
    "indicatorsByRegion.plot(column ='fragility',edgecolor='white',\n",
    "                        figsize=(15, 10))"
   ]
  },
  {
   "cell_type": "markdown",
   "id": "79bf34fd-aba5-4649-82aa-ede86b29ab40",
   "metadata": {},
   "source": [
    "Keep in mind that the combining of objects via UNION_ALL and DISSOLVE are destructive, we can not undo them. We have operations like EXPLODE which works in the reverse direction (splitting) but even that function can not undo the output of UNION_ALL and DISSOLVE. Always preserve your original GDF before using these operations, as they permanently alter your data in ways that cannot be reversed. By the way, _Did you notice something wrong in this last plot?_"
   ]
  },
  {
   "cell_type": "markdown",
   "id": "29bdb1b3",
   "metadata": {
    "id": "29bdb1b3"
   },
   "source": [
    "_____________\n",
    "\n",
    "\n",
    "\n",
    "## III. Enveloping geometries: the convex hull\n",
    "\n",
    "Sometimes you may have the need to create a polygon that serves as an envelope to a set of points.\n",
    "\n",
    "For this example, let me use the large airports:"
   ]
  },
  {
   "cell_type": "code",
   "execution_count": null,
   "id": "90d91488-3d2e-4659-90b0-7071a48cdf55",
   "metadata": {},
   "outputs": [],
   "source": [
    "large_airports=airports_brazil5880.query(\"airport_type=='large_airport'\")\n",
    "large_airports.plot()"
   ]
  },
  {
   "cell_type": "markdown",
   "id": "08f3e0a6-350c-4c38-977a-a7297ab790e0",
   "metadata": {},
   "source": [
    "How to create a minimum polygon that envelops those points?"
   ]
  },
  {
   "cell_type": "code",
   "execution_count": null,
   "id": "faff72a0-bfe2-450d-9d20-4e2e50403e40",
   "metadata": {},
   "outputs": [],
   "source": [
    "## you see no difference!!\n",
    "large_airports.convex_hull.plot()"
   ]
  },
  {
   "cell_type": "markdown",
   "id": "ebb360e8-59ed-4676-b86e-1799a2a4b4a0",
   "metadata": {},
   "source": [
    "You saw nothing new above. The objects to be enveloped required to be **previously combined**: "
   ]
  },
  {
   "cell_type": "code",
   "execution_count": null,
   "id": "ce05689b-acde-4373-8b60-51ca6bc19c5b",
   "metadata": {
    "colab": {
     "base_uri": "https://localhost:8080/",
     "height": 321
    },
    "id": "ce05689b-acde-4373-8b60-51ca6bc19c5b",
    "outputId": "aa1f67e2-f663-4441-9dca-cf0d80df294a"
   },
   "outputs": [],
   "source": [
    "# hull of the union\n",
    "large_airports.union_all().convex_hull"
   ]
  },
  {
   "cell_type": "markdown",
   "id": "d5a06f35-93ae-47ef-acd4-d443a5211d93",
   "metadata": {},
   "source": [
    "The structure we  got is:"
   ]
  },
  {
   "cell_type": "code",
   "execution_count": null,
   "id": "3863963a-8f59-4e5b-a772-6af682d683e6",
   "metadata": {},
   "outputs": [],
   "source": [
    "type(large_airports.union_all().convex_hull)"
   ]
  },
  {
   "cell_type": "markdown",
   "id": "46a0e7b3",
   "metadata": {
    "id": "46a0e7b3"
   },
   "source": [
    "Let's turn this geometry into a GDF (notice that *union_all()* forced *convex_hull* to return a _geometry_):"
   ]
  },
  {
   "cell_type": "code",
   "execution_count": null,
   "id": "14037793-1df7-4dfa-8438-7dc7734580fe",
   "metadata": {
    "colab": {
     "base_uri": "https://localhost:8080/",
     "height": 89
    },
    "id": "14037793-1df7-4dfa-8438-7dc7734580fe",
    "outputId": "735cf3a6-19d2-458d-9c8e-80439331d36a"
   },
   "outputs": [],
   "source": [
    "# some pythonic\n",
    "params=dict(index=[0],\n",
    "            data={'hull':'Large airports'}, # the column and the value\n",
    "            crs=large_airports.crs,\n",
    "            geometry=[large_airports.union_all().convex_hull])\n",
    "\n",
    "LargeAirports_hull= gpd.GeoDataFrame(**params) # the unpacking\n",
    "\n",
    "# then\n",
    "\n",
    "LargeAirports_hull"
   ]
  },
  {
   "cell_type": "markdown",
   "id": "c67c1b31",
   "metadata": {
    "id": "c67c1b31"
   },
   "source": [
    "Let's use the GDF as a layer here:"
   ]
  },
  {
   "cell_type": "code",
   "execution_count": null,
   "id": "e73b691b",
   "metadata": {
    "colab": {
     "base_uri": "https://localhost:8080/",
     "height": 481
    },
    "id": "e73b691b",
    "outputId": "d123e0e6-7073-4d2a-8579-ec6a116b7ab1"
   },
   "outputs": [],
   "source": [
    "\n",
    "base=brazil5880.plot(facecolor='yellow')\n",
    "large_airports.plot(ax=base)\n",
    "LargeAirports_hull.plot(ax=base,facecolor='green',\n",
    "                       edgecolor='white',alpha=0.4,\n",
    "                       hatch='X')"
   ]
  },
  {
   "cell_type": "markdown",
   "id": "ac22811f-889b-4373-b1b6-43bce73ddedb",
   "metadata": {},
   "source": [
    "You can get a convex hull of lines or polygons:"
   ]
  },
  {
   "cell_type": "code",
   "execution_count": null,
   "id": "dd1d98d6-9339-4d5e-99b5-446512743321",
   "metadata": {},
   "outputs": [],
   "source": [
    "# You can use it for dissolved polygons:\n",
    "Rondonia_dissolved.convex_hull.plot()"
   ]
  },
  {
   "cell_type": "markdown",
   "id": "d6e203c9-24c0-43db-a1f5-4ec14520721e",
   "metadata": {},
   "source": [
    "Remember that **union_all** and **dissolve()** give different outputs:"
   ]
  },
  {
   "cell_type": "code",
   "execution_count": null,
   "id": "8f02dd39-47e6-4c35-801d-8200e04b6b9d",
   "metadata": {},
   "outputs": [],
   "source": [
    "#this was a GDF\n",
    "type(Rondonia_dissolved)"
   ]
  },
  {
   "cell_type": "markdown",
   "id": "1d1f72d2-310f-408b-84bf-bb40e97c2a28",
   "metadata": {},
   "source": [
    "And this is:"
   ]
  },
  {
   "cell_type": "code",
   "execution_count": null,
   "id": "412c4dac-dc89-4980-a80e-e82075e3e460",
   "metadata": {},
   "outputs": [],
   "source": [
    "Rondonia_dissolved.convex_hull"
   ]
  },
  {
   "cell_type": "code",
   "execution_count": null,
   "id": "6060e527-4dad-4ac3-a818-c155f5d71a04",
   "metadata": {},
   "outputs": [],
   "source": [
    "# what?\n",
    "type(Rondonia_dissolved.convex_hull)"
   ]
  },
  {
   "cell_type": "markdown",
   "id": "af42708b-7201-4162-ab1c-9377a9233850",
   "metadata": {},
   "source": [
    "**Rondonia_dissolved.convex_hull** is a Geoseries. We prefer to work with GDFs:"
   ]
  },
  {
   "cell_type": "code",
   "execution_count": null,
   "id": "24d5a6db-cb27-4eea-a14d-b4e07988d855",
   "metadata": {},
   "outputs": [],
   "source": [
    "# a simple \"to_frame\" does the job\n",
    "Rondonia_dissolved.convex_hull.to_frame()"
   ]
  },
  {
   "cell_type": "markdown",
   "id": "e7fa7cf4-0aaa-4126-9777-d0fa65396a93",
   "metadata": {},
   "source": [
    "Here, we will turn that GeoSeries into a GDF:"
   ]
  },
  {
   "cell_type": "code",
   "execution_count": null,
   "id": "7f564e4c-1e25-4965-9b8c-9a086d720c77",
   "metadata": {},
   "outputs": [],
   "source": [
    "# more details\n",
    "Rondonia_hull=Rondonia_dissolved.convex_hull.to_frame()\n",
    "# column '0' to 'geometry'\n",
    "Rondonia_hull.rename(columns={0:\"geometry\"},inplace=True)\n",
    "# expliciting\n",
    "Rondonia_hull.set_geometry('geometry',inplace=True)\n",
    "# a cell value\n",
    "Rondonia_hull[\"name\"]=\"Rondonia\"  # or: Rondonia_hull.loc[0,\"name\"]=\"Rondonia\"\n",
    "\n",
    "# we get\n",
    "Rondonia_hull"
   ]
  },
  {
   "cell_type": "markdown",
   "id": "ff1eada3-65a7-4cac-a53c-cd81fc528be2",
   "metadata": {},
   "source": [
    "Verifying CRS:"
   ]
  },
  {
   "cell_type": "code",
   "execution_count": null,
   "id": "2f6f5883-3ca6-468c-9127-d3afefdf210a",
   "metadata": {},
   "outputs": [],
   "source": [
    "#noticed the crs was inherited\n",
    "Rondonia_hull.crs"
   ]
  },
  {
   "cell_type": "markdown",
   "id": "a219e942-aaca-41f5-a2c9-e043bfd592f3",
   "metadata": {},
   "source": [
    "Unless you need a hull per row, you need to union/dissolve the polygons (rows) of a GeoDF, see:"
   ]
  },
  {
   "cell_type": "code",
   "execution_count": null,
   "id": "ba946bf6-cf6e-4e2b-a93b-c810c28a1736",
   "metadata": {},
   "outputs": [],
   "source": [
    "#original not COMBINED:\n",
    "Brazil_munitoStates.plot(edgecolor=\"yellow\")"
   ]
  },
  {
   "cell_type": "markdown",
   "id": "b75cdc3b-cc0a-4e04-a212-d62cf4688392",
   "metadata": {},
   "source": [
    "This may not be what you want, a Hull per polygon:"
   ]
  },
  {
   "cell_type": "code",
   "execution_count": null,
   "id": "3cce9e36-b924-40cf-9a73-2d91d227db5f",
   "metadata": {},
   "outputs": [],
   "source": [
    "# hull of Non combined\n",
    "Brazil_munitoStates.convex_hull.plot(edgecolor=\"yellow\")"
   ]
  },
  {
   "cell_type": "markdown",
   "id": "d931a860-32c6-4de0-bedb-4a98110acb84",
   "metadata": {},
   "source": [
    "This may be what is needed:"
   ]
  },
  {
   "cell_type": "code",
   "execution_count": null,
   "id": "840623f3-90ab-4130-b5f9-3a3e32da2b4a",
   "metadata": {},
   "outputs": [],
   "source": [
    "# dissolve and envelope\n",
    "Brazil_munitoStates.dissolve().convex_hull.plot(edgecolor=\"yellow\")"
   ]
  },
  {
   "cell_type": "markdown",
   "id": "Cjc9MDEdB_Go",
   "metadata": {
    "id": "Cjc9MDEdB_Go"
   },
   "source": [
    "## IV. Buffering geometries\n",
    "\n",
    "The buffer will create a polygon that follows the same shape of the original vector (line, polygon, point)."
   ]
  },
  {
   "cell_type": "markdown",
   "id": "05d55225-89c4-4ffc-88da-34c8b76a8bfc",
   "metadata": {},
   "source": [
    "Let's see the Amazon River system:"
   ]
  },
  {
   "cell_type": "code",
   "execution_count": null,
   "id": "af7304ae-5c6d-4eee-9458-fe2e2f83f96e",
   "metadata": {},
   "outputs": [],
   "source": [
    "AmazonSystem=world_rivers[world_rivers.SYSTEM=='Amazon']\n",
    "AmazonSystem.plot()"
   ]
  },
  {
   "cell_type": "markdown",
   "id": "abb616e6-d763-4c08-8200-6b87b86f8742",
   "metadata": {},
   "source": [
    "As this is not projected..."
   ]
  },
  {
   "cell_type": "code",
   "execution_count": null,
   "id": "0a69901a-6ff2-4743-9ec5-877184f22c3b",
   "metadata": {},
   "outputs": [],
   "source": [
    "AmazonSystem.crs.is_projected"
   ]
  },
  {
   "cell_type": "markdown",
   "id": "1c5a2d58-a145-4386-8d36-9b3f4f4f0a24",
   "metadata": {},
   "source": [
    "We should reproject as buffering works with distances:"
   ]
  },
  {
   "cell_type": "code",
   "execution_count": null,
   "id": "c5035136-d298-4962-af9a-d7325e84823f",
   "metadata": {},
   "outputs": [],
   "source": [
    "AmazonSystem_5880=AmazonSystem.to_crs(5880)"
   ]
  },
  {
   "cell_type": "markdown",
   "id": "tvarDeceGlbw",
   "metadata": {
    "id": "tvarDeceGlbw"
   },
   "source": [
    "Now I can use the rivers to create a buffer of 50000 meters:"
   ]
  },
  {
   "cell_type": "code",
   "execution_count": null,
   "id": "y8q7Zx6EDpOZ",
   "metadata": {
    "colab": {
     "base_uri": "https://localhost:8080/",
     "height": 481
    },
    "id": "y8q7Zx6EDpOZ",
    "outputId": "f1a8c25a-0aba-4b72-8887-cfdd61d2cc37"
   },
   "outputs": [],
   "source": [
    "# 50000 at each side (radius)\n",
    "AmazonSystem_5880.buffer(50000).plot(facecolor='yellow', edgecolor='black',linewidth=0.2)"
   ]
  },
  {
   "cell_type": "markdown",
   "id": "7ab86179-3355-4d1e-9b1d-6f7b20e9a0e0",
   "metadata": {},
   "source": [
    "The resulting buffer is:"
   ]
  },
  {
   "cell_type": "code",
   "execution_count": null,
   "id": "fcfbddcb-3137-480f-8187-d037e332c7ab",
   "metadata": {},
   "outputs": [],
   "source": [
    "type(AmazonSystem_5880.buffer(50000))"
   ]
  },
  {
   "cell_type": "markdown",
   "id": "Kof-yyMHHfGA",
   "metadata": {
    "id": "Kof-yyMHHfGA"
   },
   "source": [
    "Then:"
   ]
  },
  {
   "cell_type": "code",
   "execution_count": null,
   "id": "5P8nF3cYEDdV",
   "metadata": {
    "colab": {
     "base_uri": "https://localhost:8080/",
     "height": 481
    },
    "id": "5P8nF3cYEDdV",
    "outputId": "f43f5902-3d68-43b6-fa35-d60552053abb"
   },
   "outputs": [],
   "source": [
    "base=AmazonSystem_5880.buffer(50000).plot(facecolor='yellow',edgecolor='black',linewidth=0.2)\n",
    "AmazonSystem_5880.plot(ax=base)"
   ]
  },
  {
   "cell_type": "markdown",
   "id": "bd7ed969-2e21-471e-928f-6c0be6ddb562",
   "metadata": {},
   "source": [
    "Notice that buffering can be customized:"
   ]
  },
  {
   "cell_type": "code",
   "execution_count": null,
   "id": "cac66485-04fb-4c60-968f-4e97ffce2d00",
   "metadata": {},
   "outputs": [],
   "source": [
    "riv_buf_right = AmazonSystem_5880.buffer(distance = 50000, single_sided = True)\n",
    "riv_buf_left = AmazonSystem_5880.buffer(distance = -25000, single_sided = True)\n",
    "\n",
    "base =riv_buf_right.plot(color='pink')\n",
    "riv_buf_left.plot(ax=base, color='purple')"
   ]
  },
  {
   "cell_type": "markdown",
   "id": "7caa0e58",
   "metadata": {
    "id": "7caa0e58"
   },
   "source": [
    "\n",
    "_____________\n",
    "\n",
    "\n",
    "# Validity of Geometries\n",
    "\n",
    "Geometries are created in a way that some issues may appear, especially during or after these operations.\n",
    "\n",
    "Let's check if our recent maps on states and municipalities are valid:"
   ]
  },
  {
   "cell_type": "code",
   "execution_count": null,
   "id": "3a27c1ca",
   "metadata": {
    "colab": {
     "base_uri": "https://localhost:8080/",
     "height": 424
    },
    "id": "3a27c1ca",
    "outputId": "3ac8b3f8-eafb-438b-cf02-fb91d6748998"
   },
   "outputs": [],
   "source": [
    "# non valid\n",
    "S_brazil[~S_brazil.is_valid]"
   ]
  },
  {
   "cell_type": "code",
   "execution_count": null,
   "id": "ee29926a",
   "metadata": {
    "colab": {
     "base_uri": "https://localhost:8080/",
     "height": 481
    },
    "id": "ee29926a",
    "outputId": "02d6689b-8a2b-4788-9447-b9db3bac7413"
   },
   "outputs": [],
   "source": [
    "# see the invalid:\n",
    "S_brazil[~S_brazil.is_valid].plot()"
   ]
  },
  {
   "cell_type": "markdown",
   "id": "735abaa5",
   "metadata": {
    "id": "735abaa5"
   },
   "source": [
    "It is difficult to see what is wrong. Let's get some information:"
   ]
  },
  {
   "cell_type": "code",
   "execution_count": null,
   "id": "7c6591e0",
   "metadata": {
    "colab": {
     "base_uri": "https://localhost:8080/",
     "height": 458
    },
    "id": "7c6591e0",
    "outputId": "f5881f99-79d1-431f-e3ff-4e1fb9e613d4"
   },
   "outputs": [],
   "source": [
    "# what is wrong?\n",
    "\n",
    "from shapely.validation import explain_validity, make_valid\n",
    "\n",
    "explain_validity(S_brazil[~S_brazil.is_valid].geometry)"
   ]
  },
  {
   "cell_type": "markdown",
   "id": "f4078cd0-c30f-40cb-b596-48a2270553a9",
   "metadata": {},
   "source": [
    "This is the report:"
   ]
  },
  {
   "cell_type": "code",
   "execution_count": null,
   "id": "0045e65b-c10a-49ff-8c6c-c877bd55ceea",
   "metadata": {},
   "outputs": [],
   "source": [
    "explain_validity(S_brazil.geometry).str.split(\"[\",expand=True)[0].value_counts()"
   ]
  },
  {
   "cell_type": "markdown",
   "id": "101570e8-0cc0-4797-afad-dfd4e6e264e1",
   "metadata": {},
   "source": [
    "There is one type of invalid geometry, but there several possibilities.\n",
    "\n",
    "Let's use **make_valid**:"
   ]
  },
  {
   "cell_type": "code",
   "execution_count": null,
   "id": "d69f261b",
   "metadata": {
    "colab": {
     "base_uri": "https://localhost:8080/",
     "height": 142
    },
    "id": "d69f261b",
    "outputId": "fa739ed0-bd09-444b-cf31-555254c97afa"
   },
   "outputs": [],
   "source": [
    "S_brazil_valid=S_brazil.copy()\n",
    "\n",
    "S_brazil_valid['geometry'] = [make_valid(row)  if not row.is_valid else row for row in S_brazil['geometry'] ]\n",
    "\n",
    "#any invalid?\n",
    "S_brazil_valid[~S_brazil_valid.is_valid]"
   ]
  },
  {
   "cell_type": "markdown",
   "id": "cfa45bcf",
   "metadata": {
    "id": "cfa45bcf"
   },
   "source": [
    "The use of *make_valid* may output **collections** (in one row several vector types: polygon, point, line). That is not desirable:"
   ]
  },
  {
   "cell_type": "code",
   "execution_count": null,
   "id": "c072a9dc-411c-4d7d-a94b-0c2f2de9cf97",
   "metadata": {
    "colab": {
     "base_uri": "https://localhost:8080/",
     "height": 178
    },
    "id": "c072a9dc-411c-4d7d-a94b-0c2f2de9cf97",
    "outputId": "3f5c6824-39e4-4cbd-cd03-e0417184bae5"
   },
   "outputs": [],
   "source": [
    "import pandas as pd\n",
    "pd.Series([type(x) for x in S_brazil_valid.geometry]).value_counts()"
   ]
  },
  {
   "cell_type": "markdown",
   "id": "65x2T7riHonF",
   "metadata": {
    "id": "65x2T7riHonF"
   },
   "source": [
    "## Buffers and Validity\n",
    "\n",
    "The buffering process helps cleaning simple invalidities:"
   ]
  },
  {
   "cell_type": "code",
   "execution_count": null,
   "id": "PAj05ydv8_hF",
   "metadata": {
    "colab": {
     "base_uri": "https://localhost:8080/",
     "height": 53
    },
    "id": "PAj05ydv8_hF",
    "outputId": "16bb514d-4673-4b56-dab4-8f45c51535ad"
   },
   "outputs": [],
   "source": [
    "S_brazil_valid=S_brazil.copy()\n",
    "\n",
    "S_brazil_valid['geometry'] = S_brazil_valid['geometry'].buffer(0)\n",
    "\n",
    "#any invalid?\n",
    "S_brazil_valid[~S_brazil_valid.is_valid]"
   ]
  },
  {
   "cell_type": "markdown",
   "id": "zDnnoMc7ICYW",
   "metadata": {
    "id": "zDnnoMc7ICYW"
   },
   "source": [
    "This 'buffer trick' may not always work:"
   ]
  },
  {
   "cell_type": "code",
   "execution_count": null,
   "id": "-bOp4B4F9sDN",
   "metadata": {
    "colab": {
     "base_uri": "https://localhost:8080/",
     "height": 540
    },
    "id": "-bOp4B4F9sDN",
    "outputId": "cebf92a3-3962-434d-c5af-13d1f905cb4d"
   },
   "outputs": [],
   "source": [
    "# previously\n",
    "indicatorsByRegion.plot(column =indicatorsByRegion.index,\n",
    "                        edgecolor='white',\n",
    "                        figsize=(15, 10))"
   ]
  },
  {
   "cell_type": "markdown",
   "id": "22e08b0c-a5ea-444c-a5cf-190684a161a8",
   "metadata": {},
   "source": [
    "The worst cases seem AFRICA and EAST AND SOUTHEAST ASIA, as both show some lines that should have disappeared after the dissolving we did a while ago.\n",
    "\n",
    "Did the dissolving process created invalid geometries?"
   ]
  },
  {
   "cell_type": "code",
   "execution_count": null,
   "id": "c3281864-c92e-4b68-a886-29e83e0cdb3e",
   "metadata": {},
   "outputs": [],
   "source": [
    "indicatorsByRegion.geometry.is_valid.value_counts()"
   ]
  },
  {
   "cell_type": "markdown",
   "id": "G7eQNSJJIKl-",
   "metadata": {
    "id": "G7eQNSJJIKl-"
   },
   "source": [
    "Since we do not have invalid geometries, we know the dissolving created some gaps, so the goal is to snap the boundaries together to eliminate these microscopic gaps.\n",
    "\n",
    "We could try the trick  of buffer(0), again:"
   ]
  },
  {
   "cell_type": "code",
   "execution_count": null,
   "id": "TXpvyu_d9umU",
   "metadata": {
    "colab": {
     "base_uri": "https://localhost:8080/",
     "height": 540
    },
    "id": "TXpvyu_d9umU",
    "outputId": "a9ed632f-487c-488c-93cd-b918cb64422a"
   },
   "outputs": [],
   "source": [
    "indicatorsByRegion_prjd=indicatorsByRegion.to_crs(\"ESRI:54052\").copy()\n",
    "indicatorsByRegion_prjd['geometry'] = indicatorsByRegion_prjd.buffer(0)\n",
    "\n",
    "# previously\n",
    "indicatorsByRegion_prjd.plot(column =indicatorsByRegion_prjd.index,\n",
    "                        edgecolor='white',\n",
    "                        figsize=(15, 10))"
   ]
  },
  {
   "cell_type": "markdown",
   "id": "Ng_3aPjpIc6M",
   "metadata": {
    "id": "Ng_3aPjpIc6M"
   },
   "source": [
    "It did not work either. \n",
    "\n",
    "Let's increase the buffer just to confirm gaps are presents:"
   ]
  },
  {
   "cell_type": "code",
   "execution_count": null,
   "id": "oTved9a8-UH8",
   "metadata": {
    "colab": {
     "base_uri": "https://localhost:8080/",
     "height": 540
    },
    "id": "oTved9a8-UH8",
    "outputId": "66fc8de2-37c0-423c-d7ab-6b6ca85d99b2"
   },
   "outputs": [],
   "source": [
    "indicatorsByRegion_prjd_gap=indicatorsByRegion_prjd.copy()\n",
    "indicatorsByRegion_prjd_gap['geometry'] = indicatorsByRegion_prjd_gap.buffer(10)\n",
    "\n",
    "indicatorsByRegion_prjd_gap.plot(column =indicatorsByRegion_prjd_gap.index,\n",
    "                                 edgecolor='white',\n",
    "                                 figsize=(15, 10))"
   ]
  },
  {
   "cell_type": "markdown",
   "id": "2b896eca-a50e-4434-b529-12e6fa4f28d4",
   "metadata": {},
   "source": [
    "The last version did got rid of the gaps, at least visually. Let's just check the counts in each case:"
   ]
  },
  {
   "cell_type": "code",
   "execution_count": null,
   "id": "effd1293-a115-4cbf-a68e-2dc08783a8df",
   "metadata": {},
   "outputs": [],
   "source": [
    "[(r,len(g.geoms)) for r,g in zip(indicatorsByRegion.index,indicatorsByRegion.geometry) \\\n",
    " if g.geom_type.startswith('Multi')]"
   ]
  },
  {
   "cell_type": "code",
   "execution_count": null,
   "id": "1ab0120c-27d0-498e-8dc1-f222244124dd",
   "metadata": {},
   "outputs": [],
   "source": [
    "[(r,len(g.geoms)) for r,g in zip(indicatorsByRegion_prjd_gap.index,indicatorsByRegion_prjd_gap.geometry)\\\n",
    " if g.geom_type.startswith('Multi')]"
   ]
  },
  {
   "cell_type": "markdown",
   "id": "rdsk7MTUItrn",
   "metadata": {
    "id": "rdsk7MTUItrn"
   },
   "source": [
    "indicatorsByRegion_prjd_gap did not solve the problem in Africa, but let us know there is a really big issue in those borders (Mongolia and China)."
   ]
  }
 ],
 "metadata": {
  "anaconda-cloud": {
   "attach-environment": true,
   "summary": "test"
  },
  "colab": {
   "provenance": []
  },
  "hide_input": false,
  "jupytext": {
   "cell_metadata_filter": "-all",
   "notebook_metadata_filter": "-all"
  },
  "kernelspec": {
   "display_name": "Python 3 (ipykernel)",
   "language": "python",
   "name": "python3"
  },
  "language_info": {
   "codemirror_mode": {
    "name": "ipython",
    "version": 3
   },
   "file_extension": ".py",
   "mimetype": "text/x-python",
   "name": "python",
   "nbconvert_exporter": "python",
   "pygments_lexer": "ipython3",
   "version": "3.11.13"
  },
  "toc-autonumbering": false
 },
 "nbformat": 4,
 "nbformat_minor": 5
}
